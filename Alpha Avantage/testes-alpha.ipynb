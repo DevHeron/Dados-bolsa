{
 "cells": [
  {
   "cell_type": "code",
   "execution_count": 11,
   "metadata": {},
   "outputs": [],
   "source": [
    "import pandas as pd\n",
    "from alpha_vantage.fundamentaldata import FundamentalData     "
   ]
  },
  {
   "cell_type": "code",
   "execution_count": 12,
   "metadata": {},
   "outputs": [
    {
     "data": {
      "text/plain": [
       "0        AACG\n",
       "1        AACI\n",
       "2       AACIW\n",
       "3        AADI\n",
       "4         AAL\n",
       "        ...  \n",
       "4161    ZURAW\n",
       "4162     ZVRA\n",
       "4163     ZVSA\n",
       "4164     ZYME\n",
       "4165     ZYXI\n",
       "Name: Symbol, Length: 4166, dtype: object"
      ]
     },
     "execution_count": 12,
     "metadata": {},
     "output_type": "execute_result"
    }
   ],
   "source": [
    "\n",
    "# Obter tickers americamos - porque Alpha Avantage não trabalha com empresas brasileiras\n",
    "tickers_americanos = pd.read_excel('nasdaq_screener_1701886650653.xlsx')\n",
    "coluna_tickers = tickers_americanos['Symbol']\n",
    "coluna_tickers"
   ]
  },
  {
   "cell_type": "code",
   "execution_count": 16,
   "metadata": {},
   "outputs": [
    {
     "data": {
      "text/plain": [
       "(  fiscalDateEnding reportedCurrency grossProfit totalRevenue costOfRevenue  \\\n",
       " 0       2022-12-31              CNY   102505018    206820874     104315856   \n",
       " 1       2021-12-31              CNY   104795550    202209465      97413915   \n",
       " 2       2020-12-31              CNY    63646520    162167547      98521027   \n",
       " 3       2019-12-31              CNY    35855665     97770167      61914502   \n",
       " 4       2018-12-31              CNY    -2912859      1338592       4251451   \n",
       " \n",
       "   costofGoodsAndServicesSold operatingIncome sellingGeneralAndAdministrative  \\\n",
       " 0                  104315856       -56586564                        77051580   \n",
       " 1                   97413915       -66389483                        93256046   \n",
       " 2                   98521027      -104357949                       100097849   \n",
       " 3                   61914502      -108839996                        81923516   \n",
       " 4                    4251451       -67791950                        43507856   \n",
       " \n",
       "   researchAndDevelopment operatingExpenses  ... depreciation  \\\n",
       " 0                6790791         159091582  ...         None   \n",
       " 1               11801545         171185033  ...         None   \n",
       " 2                8832488         168004469  ...         None   \n",
       " 3               11817255         144695661  ...         None   \n",
       " 4               19594484          64879091  ...         None   \n",
       " \n",
       "   depreciationAndAmortization incomeBeforeTax incomeTaxExpense  \\\n",
       " 0                    -1314063       -54515615         -5921384   \n",
       " 1                   -27329108       -37949694         -1539577   \n",
       " 2                     7667472      -110853584        -10268836   \n",
       " 3                    35703320      -141261615         -7248434   \n",
       " 4                    13331272       -68061372       -922979388   \n",
       " \n",
       "   interestAndDebtExpense netIncomeFromContinuingOperations  \\\n",
       " 0                   None                         -48594231   \n",
       " 1                   None                         -36410117   \n",
       " 2                   None                        -100584748   \n",
       " 3                   None                        -134112496   \n",
       " 4                   None                         -68053474   \n",
       " \n",
       "   comprehensiveIncomeNetOfTax        ebit     ebitda   netIncome  \n",
       " 0                        None   -56586564  -57900627   -48594231  \n",
       " 1                        None   -66389483  -93718591   -36410117  \n",
       " 2                        None  -104357949  -96690477  -100584748  \n",
       " 3                        None  -108839996  -73136676  -134013181  \n",
       " 4                        None   -78444710  -65113438   854918016  \n",
       " \n",
       " [5 rows x 26 columns],\n",
       " 'AACG')"
      ]
     },
     "metadata": {},
     "output_type": "display_data"
    },
    {
     "data": {
      "text/plain": [
       "tuple"
      ]
     },
     "execution_count": 16,
     "metadata": {},
     "output_type": "execute_result"
    }
   ],
   "source": [
    "# Fazendo solicitações via API\n",
    "api_key = 'T0OWW8AK2OL9HYXI'\n",
    "# 1 - Dados Fundamentais\n",
    "f_data = FundamentalData(key = api_key)\n",
    "tickers = coluna_tickers[0] # colocar aqui os tickers que quiser;\n",
    "financials = f_data.get_income_statement_annual(symbol= tickers)\n",
    "display(financials)\n",
    "type(financials) # Isso aqui vem em tupla.\n",
    "\n",
    "# DESCOBRIR COMO OBTER ESSAS INFORMAÇÕES PARA TODOS OS TICKERS.\n",
    "\n",
    "\n"
   ]
  }
 ],
 "metadata": {
  "kernelspec": {
   "display_name": "Python 3",
   "language": "python",
   "name": "python3"
  },
  "language_info": {
   "codemirror_mode": {
    "name": "ipython",
    "version": 3
   },
   "file_extension": ".py",
   "mimetype": "text/x-python",
   "name": "python",
   "nbconvert_exporter": "python",
   "pygments_lexer": "ipython3",
   "version": "3.10.4"
  }
 },
 "nbformat": 4,
 "nbformat_minor": 2
}
